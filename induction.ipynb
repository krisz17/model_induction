{
 "cells": [
  {
   "cell_type": "markdown",
   "id": "564acf7b-20ab-4eb8-aac7-b701744169e9",
   "metadata": {},
   "source": [
    "Przygotujemy model regresji wykorzystując do tego techniki budowy modeli klasyfikacyjnych. Skorzystam w ćwiczeniu z danych California Housing ale w wersji uprosczninej tj. tylko cechy numeryczne oraz bez wartości null. Nazwałem ćwiczenie indujcją ponieważ analogicznie jak w indukcji potrafimy coś zrobić dla niższego wymiaru i zakładamy prawdziwość tezy dla wyższego wymiaru. W tym wypadku tezą jest dobrze zbudowany model :)"
   ]
  },
  {
   "cell_type": "code",
   "execution_count": 6,
   "id": "352fe02b-4c37-4381-9378-b8f5d9a55d3d",
   "metadata": {},
   "outputs": [],
   "source": [
    "# importujemy dane \n",
    "from sklearn.datasets import fetch_california_housing\n",
    "from sklearn.model_selection import train_test_split\n",
    "\n",
    "housing = fetch_california_housing()\n",
    "\n",
    "X_train, X_test, y_train, y_test = train_test_split(housing.data, housing.target, test_size=0.2)"
   ]
  },
  {
   "cell_type": "code",
   "execution_count": 17,
   "id": "c36b7793-3310-4398-a706-53b8ce075834",
   "metadata": {},
   "outputs": [
    {
     "name": "stdout",
     "output_type": "stream",
     "text": [
      "[ 4.32879248e-01  9.54652539e-03 -1.03041297e-01  6.16390918e-01\n",
      " -2.87434374e-07 -3.46232883e-03 -4.15456082e-01 -4.28863542e-01]\n",
      "['MedInc', 'HouseAge', 'AveRooms', 'AveBedrms', 'Population', 'AveOccup', 'Latitude', 'Longitude']\n"
     ]
    }
   ],
   "source": [
    "# jako model bazowy wykorzystam model regresji liniowej\n",
    "from sklearn.linear_model import LinearRegression\n",
    "\n",
    "model = LinearRegression()\n",
    "model.fit(X_train, y_train) \n",
    "\n",
    "y_hat = model.predict(X_train)\n",
    "y_hat_test = model.predict(X_test)\n",
    "\n",
    "print(model.coef_)\n",
    "print(housing.feature_names)"
   ]
  },
  {
   "cell_type": "code",
   "execution_count": 28,
   "id": "b8240690-8933-4ddb-b884-6df52e9f8b59",
   "metadata": {},
   "outputs": [
    {
     "name": "stdout",
     "output_type": "stream",
     "text": [
      "Wartość MSE dla zbioru treningowego to 0.5158, dla testowego to 0.5590\n",
      "Wartość RMSE dla zbioru treningowego to 0.7182, dla testowego to 0.7477\n"
     ]
    }
   ],
   "source": [
    "# miary dopasowania na zbiorze treningowym oraz walidacyjnym\n",
    "\n",
    "from sklearn.metrics import mean_squared_error\n",
    "\n",
    "print(\"Wartość MSE dla zbioru treningowego to {0:.4f}, dla testowego to {1:.4f}\".\n",
    "      format(mean_squared_error(y_train, y_hat, squared=True), mean_squared_error(y_test, y_hat_test, squared=True)))\n",
    "\n",
    "print(\"Wartość RMSE dla zbioru treningowego to {0:.4f}, dla testowego to {1:.4f}\".\n",
    "      format(mean_squared_error(y_train, y_hat, squared=False), mean_squared_error(y_test, y_hat_test, squared=False)))\n"
   ]
  },
  {
   "cell_type": "code",
   "execution_count": 48,
   "id": "3f7072e6-e66d-4c8e-a288-dd8376a19c08",
   "metadata": {},
   "outputs": [
    {
     "name": "stdout",
     "output_type": "stream",
     "text": [
      "2.060689757751938\n",
      "2.100031814437984\n",
      "1.1416189266376524\n",
      "1.2013900981115107\n"
     ]
    }
   ],
   "source": [
    "# kilka sprawdzeń z jakimi zmiennymi mamy do czynienia\n",
    "import numpy as np\n",
    "from statistics import pstdev, median\n",
    "print(np.average(y_train))\n",
    "print(np.average(y_test))\n",
    "\n",
    "print(pstdev(y_train))\n",
    "print(pstdev(y_test))\n"
   ]
  },
  {
   "cell_type": "code",
   "execution_count": 34,
   "id": "ce4d3527-cd23-4cb8-8c03-4a71b9abe743",
   "metadata": {},
   "outputs": [
    {
     "data": {
      "text/plain": [
       "<AxesSubplot:>"
      ]
     },
     "execution_count": 34,
     "metadata": {},
     "output_type": "execute_result"
    },
    {
     "data": {
      "image/png": "[encoded data removed]",
      "text/plain": [
       "<Figure size 432x288 with 1 Axes>"
      ]
     },
     "metadata": {
      "needs_background": "light"
     },
     "output_type": "display_data"
    }
   ],
   "source": [
    "# jeszcze rozkład pudełkowy zmiennej celu\n",
    "import matplotlib.pyplot as plt\n",
    "import seaborn as sns\n",
    "\n",
    "sns.violinplot(x=y_train)"
   ]
  },
  {
   "cell_type": "code",
   "execution_count": 35,
   "id": "4efcfd95-e3a3-4354-a342-e4f6c91ccc35",
   "metadata": {},
   "outputs": [
    {
     "data": {
      "text/plain": [
       "<AxesSubplot:>"
      ]
     },
     "execution_count": 35,
     "metadata": {},
     "output_type": "execute_result"
    },
    {
     "data": {
      "image/png": "[encoded data removed]",
      "text/plain": [
       "<Figure size 432x288 with 1 Axes>"
      ]
     },
     "metadata": {
      "needs_background": "light"
     },
     "output_type": "display_data"
    }
   ],
   "source": [
    "sns.boxplot(x=y_train)"
   ]
  },
  {
   "cell_type": "markdown",
   "id": "1fff31e6-850b-4f20-a290-e7f97f001264",
   "metadata": {},
   "source": [
    "Występuje pare obserwacji odstających, można je \"przyciąć\" do wartości równej rórnemu kwantylowi albo usunąć. \n",
    "Na potrzeby tego ćwiczenia pozostawiam je i wykorzystam w procesie normalizacji minmax "
   ]
  },
  {
   "cell_type": "code",
   "execution_count": 32,
   "id": "7a423e34-35f3-46d9-9f51-e9ccf5cbfa93",
   "metadata": {},
   "outputs": [
    {
     "name": "stdout",
     "output_type": "stream",
     "text": [
      "Wartość R2 na zbiorze treningowym to 0.604213, na zbiorze testowym to 0.612708\n"
     ]
    }
   ],
   "source": [
    "# wartość współczynnika determinacji \n",
    "from sklearn.metrics import r2_score\n",
    "\n",
    "print(\"Wartość R2 na zbiorze treningowym to {0:4f}, na zbiorze testowym to {1:4f}\".\n",
    "      format(r2_score(y_train, y_hat), r2_score(y_test, y_hat_test)))"
   ]
  },
  {
   "cell_type": "markdown",
   "id": "bf32df2e-2dac-4578-860c-660ded63aba5",
   "metadata": {},
   "source": [
    "Przechodzę teraz do budowy modelu regresji korzystając z modelu kategorialnego.\n",
    "W tym celu skorzystam z modelu regresji logistycznej chociaż aby lepiej dobrać funkcję należałoby najpierw lepiej przyglądnąć się \n",
    "rozkładowi zmiennej celu"
   ]
  },
  {
   "cell_type": "code",
   "execution_count": 47,
   "id": "862e47bd-e473-4cb1-8d2c-39a6a80b353c",
   "metadata": {},
   "outputs": [
    {
     "data": {
      "text/plain": [
       "<AxesSubplot:>"
      ]
     },
     "execution_count": 47,
     "metadata": {},
     "output_type": "execute_result"
    },
    {
     "data": {
      "image/png": "[encoded data removed]",
      "text/plain": [
       "<Figure size 432x288 with 1 Axes>"
      ]
     },
     "metadata": {
      "needs_background": "light"
     },
     "output_type": "display_data"
    }
   ],
   "source": [
    "# normalizacja zmiennej celu oraz pozbycie się wartości odstających. \n",
    "#y_prim = (y - y_min)/(y_max-y_min)*(new_y_max - new_y_min)\n",
    "\n",
    "# należy pamiętać, żeby skorzystać z tego samego zestawu parametrów nomralizacji danych również na zbiorze walidacyjnym\n",
    "y_min = np.min(y_train) \n",
    "y_max = np.max(y_train)\n",
    "\n",
    "y_train_b = [ (y - y_min)/(y_max - y_min) for y in y_train]\n",
    "\n",
    "sns.boxplot(x= y_train_b)"
   ]
  },
  {
   "cell_type": "code",
   "execution_count": 53,
   "id": "44959528-59ae-49ae-9fdd-50febbca369c",
   "metadata": {},
   "outputs": [
    {
     "data": {
      "text/plain": [
       "0.5004239341085271"
      ]
     },
     "execution_count": 53,
     "metadata": {},
     "output_type": "execute_result"
    }
   ],
   "source": [
    "# teraz przygotowuję kategorialną zmienną celu\n",
    "# najpierw wartość progowa, ja decyduę się na medianę \n",
    "y_treshold = median(y_train_b)\n",
    "\n",
    "y_train_cat = [1 if y >= y_treshold else 0 for y in y_train_b ]\n",
    "\n",
    "np.average(y_train_cat)"
   ]
  }
 ],
 "metadata": {
  "kernelspec": {
   "display_name": "Python 3 (ipykernel)",
   "language": "python",
   "name": "python3"
  },
  "language_info": {
   "codemirror_mode": {
    "name": "ipython",
    "version": 3
   },
   "file_extension": ".py",
   "mimetype": "text/x-python",
   "name": "python",
   "nbconvert_exporter": "python",
   "pygments_lexer": "ipython3",
   "version": "3.9.7"
  }
 },
 "nbformat": 4,
 "nbformat_minor": 5
}
