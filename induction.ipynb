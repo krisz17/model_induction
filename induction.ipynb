{
 "cells": [
  {
   "cell_type": "markdown",
   "id": "564acf7b-20ab-4eb8-aac7-b701744169e9",
   "metadata": {},
   "source": [
    "Przygotujemy model regresji wykorzystując do tego techniki budowy modeli klasyfikacyjnych. Skorzystam w ćwiczeniu z danych California Housing ale w wersji uprosczninej tj. tylko cechy numeryczne oraz bez wartości null. Nazwałem ćwiczenie indujcją ponieważ analogicznie jak w indukcji potrafimy coś zrobić dla niższego wymiaru i zakładamy prawdziwość tezy dla wyższego wymiaru. W tym wypadku tezą jest dobrze zbudowany model :)"
   ]
  },
  {
   "cell_type": "code",
   "execution_count": 1,
   "id": "352fe02b-4c37-4381-9378-b8f5d9a55d3d",
   "metadata": {},
   "outputs": [],
   "source": [
    "# importujemy dane \n",
    "from sklearn.datasets import fetch_california_housing\n",
    "from sklearn.model_selection import train_test_split\n",
    "\n",
    "housing = fetch_california_housing()\n",
    "\n",
    "X_train, X_test, y_train, y_test = train_test_split(housing.data, housing.target, test_size=0.2)"
   ]
  },
  {
   "cell_type": "code",
   "execution_count": 30,
   "id": "c36b7793-3310-4398-a706-53b8ce075834",
   "metadata": {},
   "outputs": [
    {
     "name": "stdout",
     "output_type": "stream",
     "text": [
      "[ 4.35625088e-01  9.78826180e-03 -1.08625595e-01  6.39181946e-01\n",
      " -2.72754052e-06 -3.52526932e-03 -4.20119232e-01 -4.31468812e-01]\n",
      "['MedInc', 'HouseAge', 'AveRooms', 'AveBedrms', 'Population', 'AveOccup', 'Latitude', 'Longitude']\n"
     ]
    }
   ],
   "source": [
    "# jako model bazowy wykorzystam model regresji liniowej\n",
    "from sklearn.linear_model import LinearRegression\n",
    "\n",
    "model = LinearRegression()\n",
    "model.fit(X_train, y_train) \n",
    "\n",
    "y_hat = model.predict(X_train)\n",
    "y_hat_test_r = model.predict(X_test)\n",
    "\n",
    "print(model.coef_)\n",
    "print(housing.feature_names)"
   ]
  },
  {
   "cell_type": "code",
   "execution_count": 3,
   "id": "b8240690-8933-4ddb-b884-6df52e9f8b59",
   "metadata": {},
   "outputs": [
    {
     "name": "stdout",
     "output_type": "stream",
     "text": [
      "Wartość MSE dla zbioru treningowego to 0.5268, dla testowego to 0.5149\n",
      "Wartość RMSE dla zbioru treningowego to 0.7258, dla testowego to 0.7176\n"
     ]
    }
   ],
   "source": [
    "# miary dopasowania na zbiorze treningowym oraz walidacyjnym\n",
    "\n",
    "from sklearn.metrics import mean_squared_error\n",
    "\n",
    "print(\"Wartość MSE dla zbioru treningowego to {0:.4f}, dla testowego to {1:.4f}\".\n",
    "      format(mean_squared_error(y_train, y_hat, squared=True), mean_squared_error(y_test, y_hat_test_r, squared=True)))\n",
    "\n",
    "print(\"Wartość RMSE dla zbioru treningowego to {0:.4f}, dla testowego to {1:.4f}\".\n",
    "      format(mean_squared_error(y_train, y_hat, squared=False), mean_squared_error(y_test, y_hat_test_r, squared=False)))\n"
   ]
  },
  {
   "cell_type": "code",
   "execution_count": 4,
   "id": "3f7072e6-e66d-4c8e-a288-dd8376a19c08",
   "metadata": {},
   "outputs": [
    {
     "name": "stdout",
     "output_type": "stream",
     "text": [
      "2.0730663075339146\n",
      "2.050525615310078\n",
      "1.1556903749012377\n",
      "1.1466752215020783\n"
     ]
    }
   ],
   "source": [
    "# kilka sprawdzeń z jakimi zmiennymi mamy do czynienia\n",
    "import numpy as np\n",
    "from statistics import pstdev, median\n",
    "print(np.average(y_train))\n",
    "print(np.average(y_test))\n",
    "\n",
    "print(pstdev(y_train))\n",
    "print(pstdev(y_test))\n"
   ]
  },
  {
   "cell_type": "code",
   "execution_count": 5,
   "id": "ce4d3527-cd23-4cb8-8c03-4a71b9abe743",
   "metadata": {},
   "outputs": [
    {
     "data": {
      "text/plain": [
       "<AxesSubplot:>"
      ]
     },
     "execution_count": 5,
     "metadata": {},
     "output_type": "execute_result"
    },
    {
     "data": {
      "image/png": "[encoded data removed]",
      "text/plain": [
       "<Figure size 432x288 with 1 Axes>"
      ]
     },
     "metadata": {
      "needs_background": "light"
     },
     "output_type": "display_data"
    }
   ],
   "source": [
    "# jeszcze rozkład pudełkowy zmiennej celu\n",
    "import matplotlib.pyplot as plt\n",
    "import seaborn as sns\n",
    "\n",
    "sns.violinplot(x=y_train)"
   ]
  },
  {
   "cell_type": "code",
   "execution_count": 6,
   "id": "4efcfd95-e3a3-4354-a342-e4f6c91ccc35",
   "metadata": {},
   "outputs": [
    {
     "data": {
      "text/plain": [
       "<AxesSubplot:>"
      ]
     },
     "execution_count": 6,
     "metadata": {},
     "output_type": "execute_result"
    },
    {
     "data": {
      "image/png": "[encoded data removed]",
      "text/plain": [
       "<Figure size 432x288 with 1 Axes>"
      ]
     },
     "metadata": {
      "needs_background": "light"
     },
     "output_type": "display_data"
    }
   ],
   "source": [
    "sns.boxplot(x=y_train)"
   ]
  },
  {
   "cell_type": "markdown",
   "id": "1fff31e6-850b-4f20-a290-e7f97f001264",
   "metadata": {},
   "source": [
    "Występuje pare obserwacji odstających, można je \"przyciąć\" do wartości równej rórnemu kwantylowi albo usunąć. \n",
    "Na potrzeby tego ćwiczenia pozostawiam je i wykorzystam w procesie normalizacji minmax "
   ]
  },
  {
   "cell_type": "code",
   "execution_count": 7,
   "id": "7a423e34-35f3-46d9-9f51-e9ccf5cbfa93",
   "metadata": {},
   "outputs": [
    {
     "name": "stdout",
     "output_type": "stream",
     "text": [
      "Wartość R2 na zbiorze treningowym to 0.605590, na zbiorze testowym to 0.608396\n"
     ]
    }
   ],
   "source": [
    "# wartość współczynnika determinacji \n",
    "from sklearn.metrics import r2_score\n",
    "\n",
    "print(\"Wartość R2 na zbiorze treningowym to {0:4f}, na zbiorze testowym to {1:4f}\".\n",
    "      format(r2_score(y_train, y_hat), r2_score(y_test, y_hat_test_r)))"
   ]
  },
  {
   "cell_type": "markdown",
   "id": "bf32df2e-2dac-4578-860c-660ded63aba5",
   "metadata": {},
   "source": [
    "Przechodzę teraz do budowy modelu regresji korzystając z modelu kategorialnego.\n",
    "W tym celu skorzystam z modelu regresji logistycznej chociaż aby lepiej dobrać funkcję należałoby najpierw lepiej przyglądnąć się \n",
    "rozkładowi zmiennej celu"
   ]
  },
  {
   "cell_type": "code",
   "execution_count": 8,
   "id": "862e47bd-e473-4cb1-8d2c-39a6a80b353c",
   "metadata": {},
   "outputs": [
    {
     "data": {
      "text/plain": [
       "<AxesSubplot:>"
      ]
     },
     "execution_count": 8,
     "metadata": {},
     "output_type": "execute_result"
    },
    {
     "data": {
      "image/png": "[encoded data removed]",
      "text/plain": [
       "<Figure size 432x288 with 1 Axes>"
      ]
     },
     "metadata": {
      "needs_background": "light"
     },
     "output_type": "display_data"
    }
   ],
   "source": [
    "# normalizacja zmiennej celu oraz pozbycie się wartości odstających. \n",
    "#y_prim = (y - y_min)/(y_max-y_min)*(new_y_max - new_y_min)\n",
    "\n",
    "# należy pamiętać, żeby skorzystać z tego samego zestawu parametrów nomralizacji danych również na zbiorze walidacyjnym\n",
    "y_min = np.min(y_train) \n",
    "y_max = np.max(y_train)\n",
    "\n",
    "y_train_b = [(y - y_min)/(y_max - y_min) for y in y_train]\n",
    "#y_test_b = [(y - y_min)/(y_max - y_min) for y in y_test]\n",
    "\n",
    "sns.boxplot(x= y_train_b)"
   ]
  },
  {
   "cell_type": "code",
   "execution_count": 21,
   "id": "0c0e151a-841a-44c2-a39f-e2a210ac492d",
   "metadata": {},
   "outputs": [
    {
     "name": "stdout",
     "output_type": "stream",
     "text": [
      "0.3925024224806202\n",
      "0.3965089437845441\n"
     ]
    }
   ],
   "source": [
    "# generuję listę liczb pseudolosowych na podstawie których dokonam kodowania targetu na 0 i 1\n",
    "import random\n",
    "tresh_list = []\n",
    "for i in range(len(y_train_b)):  #16512\n",
    "    tmp = random.random()\n",
    "    tresh_list.append(tmp)\n",
    "\n",
    "y_train_cat = [1 if y >= t else 0 for y,t in zip(y_train_b, tresh_list)]\n",
    "\n",
    "# sprawdzenie czy średnia się zgadza, można wykorzystać jakiś test ale przy tej skali prawo wielkich liczb powinno zadziałać \n",
    "print(np.average(y_train_cat))\n",
    "print(np.average(y_train_b))"
   ]
  },
  {
   "cell_type": "markdown",
   "id": "18b075dd-4dc1-44cd-b9a5-95bdbd4d9245",
   "metadata": {},
   "source": [
    " W następnym kroku zbuduję model dla problemu binarnego. Skorzystam z Catboosta zapominając na chwilę, że może on rozwiązywać również problemy regresyjne :)"
   ]
  },
  {
   "cell_type": "code",
   "execution_count": 31,
   "id": "da1a8387-52d6-4709-af57-6b6d38573b58",
   "metadata": {},
   "outputs": [
    {
     "name": "stdout",
     "output_type": "stream",
     "text": [
      "Wartość MSE to 0.3352, RMSE to 0.5790, a R2 wynosi 0.745040\n",
      "Dla przypomnienia wartości dla modelu regresji wartości te na zbiorze testowym wynosiły\n",
      "Wartość dla Regresji: MSE to 0.5149, RMSE to 0.7176, a R2 wynosi 0.608396\n"
     ]
    }
   ],
   "source": [
    "from catboost import CatBoostClassifier, Pool\n",
    "\n",
    "# odpuszczam sobie przygotowanie zmiennych kategorialnych bo takowych w zbiorze nie ma\n",
    "\n",
    "#parametryzujemy model\n",
    "cbc = CatBoostClassifier(n_estimators=100,\n",
    "                         loss_function='Logloss',\n",
    "                         learning_rate=0.1,\n",
    "                         depth=3, task_type='GPU',\n",
    "                         random_state=128262,\n",
    "                         verbose=False)\n",
    "\n",
    "\n",
    "# konsertujemy zbiory do typu Pool\n",
    "pool_train = Pool(X_train, y_train_cat)\n",
    "\n",
    "pool_test = Pool(X_test, cat_features = [])\n",
    "cbc.fit(pool_train)\n",
    "y_hat_test = cbc.predict_proba(pool_test)\n",
    "\n",
    "# odwrotne działanie do min max\n",
    "y_hat_test_conv = [y*(y_max - y_min) + y_min for y in y_hat_test[:,1]]\n",
    "\n",
    "\n",
    "from sklearn.metrics import mean_squared_error, r2_score\n",
    "\n",
    "\n",
    "print(\"Wartość MSE to {0:.4f}, RMSE to {1:.4f}, a R2 wynosi {2:4f}\".\n",
    "      format(mean_squared_error(y_test, y_hat_test_conv, squared=True), \\\n",
    "             mean_squared_error(y_test, y_hat_test_conv, squared=False), \\\n",
    "            r2_score(y_test, y_hat_test_conv)))\n",
    "print(\"Dla przypomnienia wartości dla modelu regresji wartości te na zbiorze testowym wynosiły\")\n",
    "\n",
    "print(\"Wartość dla Regresji: MSE to {0:.4f}, RMSE to {1:.4f}, a R2 wynosi {2:4f}\".\n",
    "      format(mean_squared_error(y_test, y_hat_test_r, squared=True), \\\n",
    "             mean_squared_error(y_test, y_hat_test_r, squared=False), \\\n",
    "            r2_score(y_test, y_hat_test_r)))\n"
   ]
  },
  {
   "cell_type": "markdown",
   "id": "fb35725c-5cbd-42ff-9103-e1846584bcba",
   "metadata": {},
   "source": [
    "Porównajmy jeszcze rozkłady obu modeli: "
   ]
  },
  {
   "cell_type": "code",
   "execution_count": 32,
   "id": "230d38f9-7a21-460d-bd2b-1efdaae13df6",
   "metadata": {},
   "outputs": [
    {
     "data": {
      "image/png": "[encoded data removed]",
      "text/plain": [
       "<Figure size 648x360 with 1 Axes>"
      ]
     },
     "metadata": {},
     "output_type": "display_data"
    }
   ],
   "source": [
    "import matplotlib.pyplot as plt\n",
    "import seaborn as sns\n",
    "\n",
    "sns.set(style=\"darkgrid\")\n",
    "plt.figure(figsize=(9,5))\n",
    "\n",
    "\n",
    "fig = sns.kdeplot(y_test, label='Originalne', shade=True, color=\"r\", common_grid=True)\n",
    "fig = sns.kdeplot(y_hat_test_r, label='Regresja liniowa', shade=True, color=\"b\", common_grid=True)\n",
    "fig = sns.kdeplot(y_hat_test_conv, label='Indukcja', shade=True, color=\"g\", common_grid=True)\n",
    "\n",
    "plt.xlabel('Cena mieszkań', fontsize=15)\n",
    "#plt.xlim(0,1)\n",
    "plt.legend(fontsize=15)\n",
    "plt.tick_params(axis='both', labelsize=15, pad=5)\n",
    "#plt.savefig(\"double_density.png\", format='png', dpi=300, facecolor=\"White\")\n",
    "plt.show()"
   ]
  }
 ],
 "metadata": {
  "kernelspec": {
   "display_name": "Python 3 (ipykernel)",
   "language": "python",
   "name": "python3"
  },
  "language_info": {
   "codemirror_mode": {
    "name": "ipython",
    "version": 3
   },
   "file_extension": ".py",
   "mimetype": "text/x-python",
   "name": "python",
   "nbconvert_exporter": "python",
   "pygments_lexer": "ipython3",
   "version": "3.9.7"
  }
 },
 "nbformat": 4,
 "nbformat_minor": 5
}
