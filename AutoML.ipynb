{
 "cells": [
  {
   "cell_type": "markdown",
   "id": "cbaddad6-fc47-413e-a33f-a8557cd0c06c",
   "metadata": {},
   "source": [
    "Do wykonania tej części kodu musiałem postawić osobne środowisko wirtualne o nazwie \"automl\" zgodne z poniższą listą requirements.txt\n",
    "\n",
    "pandas==1.4.4\n",
    "numpy==1.21.5\n",
    "scikit-learn==1.0.2\n",
    "lazypredict==0.2.12"
   ]
  },
  {
   "cell_type": "code",
   "execution_count": 2,
   "id": "057aad89-9f43-4fa4-b312-065d000e3700",
   "metadata": {},
   "outputs": [],
   "source": [
    "# importujemy dane \n",
    "from sklearn.datasets import fetch_california_housing\n",
    "from sklearn.model_selection import train_test_split\n",
    "\n",
    "housing = fetch_california_housing()\n",
    "\n",
    "X_train_f, X_test, y_train_f, y_test = train_test_split(housing.data, housing.target, test_size=0.1)\n",
    "\n",
    "X_train, X_valid, y_train, y_valid = train_test_split(X_train_f, y_train_f, test_size=0.6)\n",
    "\n"
   ]
  },
  {
   "cell_type": "code",
   "execution_count": null,
   "id": "7e0b852e-0280-4fbf-86f0-aeae6acdae11",
   "metadata": {},
   "outputs": [
    {
     "name": "stderr",
     "output_type": "stream",
     "text": [
      " 64%|████████████████████████████████████████████████████▋                             | 27/42 [00:41<00:11,  1.27it/s]"
     ]
    }
   ],
   "source": [
    "from lazypredict.Supervised import LazyRegressor\n",
    "import numpy as np\n",
    "\n",
    "# Cast the numerical values into a numpy float.\n",
    "#X_train = X_train.astype(np.float32)\n",
    "#X_test = X_test.astype(np.float32)\n",
    "\n",
    "\n",
    "# Running the Lazypredict library and fit multiple regression libraries\n",
    "# for the same dataset\n",
    "reg = LazyRegressor(verbose=0, \n",
    "                    ignore_warnings=False, \n",
    "                    custom_metric=None,\n",
    "                    predictions=False,\n",
    "                    random_state = 128262)\n",
    "\n",
    "# Parameters\n",
    "# ----------\n",
    "# verbose : int, optional (default=0)\n",
    "#       For the liblinear and lbfgs solvers set verbose to any positive\n",
    "#       number for verbosity.\n",
    "# ignore_warnings : bool, optional (default=True)\n",
    "#       When set to True, the warning related to algorigms that are not able\n",
    "#       to run are ignored.\n",
    "# custom_metric : function, optional (default=None)\n",
    "#       When function is provided, models are evaluated based on the custom \n",
    "#       evaluation metric provided.\n",
    "# prediction : bool, optional (default=False)\n",
    "#       When set to True, the predictions of all the models models are \n",
    "#       returned as dataframe.\n",
    "# regressors : list, optional (default=\"all\")\n",
    "#       When function is provided, trains the chosen regressor(s).\n",
    "\n",
    "models, predictions = reg.fit(X_train, X_test, y_train, y_test)\n",
    "model_dictionary = reg.provide_models(X_train, X_test, y_train, y_test)\n",
    "models"
   ]
  },
  {
   "cell_type": "code",
   "execution_count": null,
   "id": "d0427cac-f4c9-4476-8033-5fe61476ca9a",
   "metadata": {},
   "outputs": [],
   "source": [
    "models"
   ]
  }
 ],
 "metadata": {
  "kernelspec": {
   "display_name": "automl",
   "language": "python",
   "name": "automl"
  },
  "language_info": {
   "codemirror_mode": {
    "name": "ipython",
    "version": 3
   },
   "file_extension": ".py",
   "mimetype": "text/x-python",
   "name": "python",
   "nbconvert_exporter": "python",
   "pygments_lexer": "ipython3",
   "version": "3.9.7"
  }
 },
 "nbformat": 4,
 "nbformat_minor": 5
}
